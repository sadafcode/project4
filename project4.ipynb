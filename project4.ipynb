{
  "nbformat": 4,
  "nbformat_minor": 0,
  "metadata": {
    "colab": {
      "provenance": [],
      "include_colab_link": true
    },
    "kernelspec": {
      "name": "python3",
      "display_name": "Python 3"
    },
    "language_info": {
      "name": "python"
    }
  },
  "cells": [
    {
      "cell_type": "markdown",
      "metadata": {
        "id": "view-in-github",
        "colab_type": "text"
      },
      "source": [
        "<a href=\"https://colab.research.google.com/github/sadafcode/project4/blob/main/project4.ipynb\" target=\"_parent\"><img src=\"https://colab.research.google.com/assets/colab-badge.svg\" alt=\"Open In Colab\"/></a>"
      ]
    },
    {
      "cell_type": "code",
      "execution_count": 1,
      "metadata": {
        "id": "0R_PLTRGJKMr",
        "colab": {
          "base_uri": "https://localhost:8080/"
        },
        "outputId": "c6a39d90-c322-4a7f-b769-b36ac25dc757"
      },
      "outputs": [
        {
          "output_type": "stream",
          "name": "stdout",
          "text": [
            "whats your choice? 'r' for rock 'p' for paper 's' for scissors \n",
            "r\n",
            "it's a tie\n"
          ]
        }
      ],
      "source": [
        "import random\n",
        "def play():\n",
        "    user = input(\"whats your choice? 'r' for rock 'p' for paper 's' for scissors \\n\")\n",
        "    computer = random.choice(['r','p','s'])\n",
        "    if user == computer:\n",
        "      return 'it\\'s a tie'\n",
        "    if is_win(user,computer):\n",
        "      return 'you won'\n",
        "\n",
        "\n",
        "    return 'you lost'\n",
        "def is_win(player,opponent):\n",
        "  if (player == 'r' and opponent == 's') or (player == 's' and opponent == 'p') or (player =='p' and opponent == 'r'):\n",
        "    return True\n",
        "print(play())\n"
      ]
    }
  ]
}